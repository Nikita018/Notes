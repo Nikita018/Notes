{
  "nbformat": 4,
  "nbformat_minor": 0,
  "metadata": {
    "colab": {
      "name": "Covariance Matrix concepts.ipynb",
      "provenance": [],
      "authorship_tag": "ABX9TyNUT3VEkUkOX8HACtOrycki",
      "include_colab_link": true
    },
    "kernelspec": {
      "name": "python3",
      "display_name": "Python 3"
    }
  },
  "cells": [
    {
      "cell_type": "markdown",
      "metadata": {
        "id": "view-in-github",
        "colab_type": "text"
      },
      "source": [
        "<a href=\"https://colab.research.google.com/github/Nikita018/Notes/blob/master/Notebooks/Covariance_Matrix_concepts.ipynb\" target=\"_parent\"><img src=\"https://colab.research.google.com/assets/colab-badge.svg\" alt=\"Open In Colab\"/></a>"
      ]
    },
    {
      "cell_type": "code",
      "metadata": {
        "id": "ZHgP0V66y5Oq",
        "colab_type": "code",
        "colab": {
          "base_uri": "https://localhost:8080/",
          "height": 141
        },
        "outputId": "51945c9b-edb5-4639-d7f2-7fbec04f02ee"
      },
      "source": [
        "'''\n",
        "Clarifying the concept of covariance - covariance shows how 2 variables vary together. In a covariance matrix, the diagonal values are variance and the other values are covariance. \n",
        "Cov Matrix is a square symmetric matrix.Range of cov : -infinity to infinity.\n",
        "If we apply mean centering and make it a unit vector, the value is called correlation value. Range of cor : -1 to +1. Corr value of 0 means that the vectors are orthogonal to each other i.e. independent of each other\n",
        "'''\n"
      ],
      "execution_count": 39,
      "outputs": [
        {
          "output_type": "execute_result",
          "data": {
            "text/plain": [
              "array([[1, 3],\n",
              "       [3, 1],\n",
              "       [2, 2],\n",
              "       [4, 4],\n",
              "       [6, 6],\n",
              "       [7, 3],\n",
              "       [2, 2]])"
            ]
          },
          "metadata": {
            "tags": []
          },
          "execution_count": 39
        }
      ]
    },
    {
      "cell_type": "code",
      "metadata": {
        "id": "Qn2U2112FYkp",
        "colab_type": "code",
        "colab": {
          "base_uri": "https://localhost:8080/",
          "height": 141
        },
        "outputId": "527ae4ca-4066-45bf-ea2e-8beb45e0e9a4"
      },
      "source": [
        "import numpy as np\n",
        "x0 = [1,3,2,4,6,7,2]\n",
        "x1 = [3,1,2,4,6,3,2]\n",
        "# X = np.vstack((x1, x2)).T\n",
        "X = np.array([x0,x1]).T\n",
        "X"
      ],
      "execution_count": 75,
      "outputs": [
        {
          "output_type": "execute_result",
          "data": {
            "text/plain": [
              "array([[1, 3],\n",
              "       [3, 1],\n",
              "       [2, 2],\n",
              "       [4, 4],\n",
              "       [6, 6],\n",
              "       [7, 3],\n",
              "       [2, 2]])"
            ]
          },
          "metadata": {
            "tags": []
          },
          "execution_count": 75
        }
      ]
    },
    {
      "cell_type": "code",
      "metadata": {
        "id": "g-yz9sd50XvE",
        "colab_type": "code",
        "colab": {
          "base_uri": "https://localhost:8080/",
          "height": 35
        },
        "outputId": "119d41b6-3911-4994-e8ae-9a4162a2e6e2"
      },
      "source": [
        "X.shape"
      ],
      "execution_count": 24,
      "outputs": [
        {
          "output_type": "execute_result",
          "data": {
            "text/plain": [
              "(7, 2)"
            ]
          },
          "metadata": {
            "tags": []
          },
          "execution_count": 24
        }
      ]
    },
    {
      "cell_type": "code",
      "metadata": {
        "id": "nEwcrW4Fzd5A",
        "colab_type": "code",
        "colab": {
          "base_uri": "https://localhost:8080/",
          "height": 35
        },
        "outputId": "6322d546-c269-4cb0-90bf-800faf439842"
      },
      "source": [
        "X[:,1]"
      ],
      "execution_count": 25,
      "outputs": [
        {
          "output_type": "execute_result",
          "data": {
            "text/plain": [
              "array([3, 1, 2, 4, 6, 3, 2])"
            ]
          },
          "metadata": {
            "tags": []
          },
          "execution_count": 25
        }
      ]
    },
    {
      "cell_type": "code",
      "metadata": {
        "id": "nMI_5RYpz1Wb",
        "colab_type": "code",
        "colab": {
          "base_uri": "https://localhost:8080/",
          "height": 35
        },
        "outputId": "405f421e-2535-41b0-b88a-b42643cc39f3"
      },
      "source": [
        "X[:,0]"
      ],
      "execution_count": 12,
      "outputs": [
        {
          "output_type": "execute_result",
          "data": {
            "text/plain": [
              "array([1, 3, 2, 4, 6, 7, 2])"
            ]
          },
          "metadata": {
            "tags": []
          },
          "execution_count": 12
        }
      ]
    },
    {
      "cell_type": "code",
      "metadata": {
        "id": "cje9zdj52bX7",
        "colab_type": "code",
        "colab": {
          "base_uri": "https://localhost:8080/",
          "height": 52
        },
        "outputId": "8b9288a7-d234-4b70-a13e-9d9ca4148aab"
      },
      "source": [
        "# 1. Direct Covariance Matrix\n",
        "CM = np.matmul(X.T,X)\n",
        "print(\"Cov Matrix\", CM)\n"
      ],
      "execution_count": 54,
      "outputs": [
        {
          "output_type": "stream",
          "text": [
            "Cov Matrix [[119  87]\n",
            " [ 87  79]]\n"
          ],
          "name": "stdout"
        }
      ]
    },
    {
      "cell_type": "code",
      "metadata": {
        "id": "K2au0El338Mr",
        "colab_type": "code",
        "colab": {
          "base_uri": "https://localhost:8080/",
          "height": 88
        },
        "outputId": "e39471cf-2b6f-4792-e3a8-c9ea6249b9e2"
      },
      "source": [
        "# 2.Normalized Cov Matrix\n",
        "from numpy import linalg as LA\n",
        "x0 = [1.0,3.0,2.0,4.0,6.0,7.0,2.0]\n",
        "x1 = [3.0,1.0,2.0,4.0,6.0,3.0,2.0]\n",
        "# X = np.vstack((x1, x2)).T\n",
        "X = np.array([x0,x1]).T\n",
        "x0_norm = LA.norm(X[:,0],2)\n",
        "x1_norm = LA.norm(X[:,1],2)\n",
        "X[:,0] = X[:,0]/x0_norm\n",
        "X[:,1] = X[:,1]/x1_norm\n",
        "print(\"x0_norm : \",x0_norm)\n",
        "print(\"x1_norm : \",x1_norm)\n",
        "CM_2norm = np.matmul(X.T,X)\n",
        "print(\"cov matrix of normalized matrix\",CM_2norm)"
      ],
      "execution_count": 66,
      "outputs": [
        {
          "output_type": "stream",
          "text": [
            "x0_norm :  10.908712114635714\n",
            "x1_norm :  8.888194417315589\n",
            "cov matrix of normalized matrix [[1.         0.89728876]\n",
            " [0.89728876 1.        ]]\n"
          ],
          "name": "stdout"
        }
      ]
    },
    {
      "cell_type": "code",
      "metadata": {
        "id": "YBb6_od7_ypE",
        "colab_type": "code",
        "colab": {
          "base_uri": "https://localhost:8080/",
          "height": 141
        },
        "outputId": "c98c4927-f629-4938-ba0a-2044f70e85f5"
      },
      "source": [
        "X"
      ],
      "execution_count": 65,
      "outputs": [
        {
          "output_type": "execute_result",
          "data": {
            "text/plain": [
              "array([[0, 0],\n",
              "       [0, 0],\n",
              "       [0, 0],\n",
              "       [0, 0],\n",
              "       [0, 0],\n",
              "       [0, 0],\n",
              "       [0, 0]])"
            ]
          },
          "metadata": {
            "tags": []
          },
          "execution_count": 65
        }
      ]
    },
    {
      "cell_type": "code",
      "metadata": {
        "id": "ki1FUupE9TJ7",
        "colab_type": "code",
        "colab": {
          "base_uri": "https://localhost:8080/",
          "height": 35
        },
        "outputId": "5c10d11b-9894-423c-f0a7-57441163602e"
      },
      "source": [
        "X[:,0]"
      ],
      "execution_count": 64,
      "outputs": [
        {
          "output_type": "execute_result",
          "data": {
            "text/plain": [
              "array([0, 0, 0, 0, 0, 0, 0])"
            ]
          },
          "metadata": {
            "tags": []
          },
          "execution_count": 64
        }
      ]
    },
    {
      "cell_type": "code",
      "metadata": {
        "id": "O1uF4O1E7Eio",
        "colab_type": "code",
        "colab": {
          "base_uri": "https://localhost:8080/",
          "height": 141
        },
        "outputId": "b839fd5b-e863-4b83-c17f-a201944dd58d"
      },
      "source": [
        "#mean-center cov matrix\n",
        "x0 = [1.0,3.0,2.0,4.0,6.0,7.0,2.0]\n",
        "x1 = [3.0,1.0,2.0,4.0,6.0,3.0,2.0]\n",
        "X = np.array([x0,x1]).T\n",
        "X"
      ],
      "execution_count": 68,
      "outputs": [
        {
          "output_type": "execute_result",
          "data": {
            "text/plain": [
              "array([[1., 3.],\n",
              "       [3., 1.],\n",
              "       [2., 2.],\n",
              "       [4., 4.],\n",
              "       [6., 6.],\n",
              "       [7., 3.],\n",
              "       [2., 2.]])"
            ]
          },
          "metadata": {
            "tags": []
          },
          "execution_count": 68
        }
      ]
    },
    {
      "cell_type": "code",
      "metadata": {
        "id": "Y6tJG4tP7Sia",
        "colab_type": "code",
        "colab": {
          "base_uri": "https://localhost:8080/",
          "height": 52
        },
        "outputId": "e95c2368-a0f8-4129-ad21-4fbadc925780"
      },
      "source": [
        "mean_x0 = np.mean(X[:,0])\n",
        "mean_x1 = np.mean(X[:,1])\n",
        "mean_cen_x0 = X[:,0] - mean_x0\n",
        "mean_cen_x1 = X[:,1] - mean_x1\n",
        "X_mean_cen= np.array([mean_cen_x0,mean_cen_x1]).T\n",
        "x0_norm = LA.norm(X_mean_cen[:,0],2)\n",
        "x1_norm = LA.norm(X_mean_cen[:,1],2)\n",
        "X_mean_cen[:,0] = X_mean_cen[:,0]/x0_norm\n",
        "X_mean_cen[:,1] = X_mean_cen[:,1]/x1_norm\n",
        "# Find cov\n",
        "CM_2norm = np.matmul(X_mean_cen.T,X_mean_cen)\n",
        "CM_2norm"
      ],
      "execution_count": 70,
      "outputs": [
        {
          "output_type": "execute_result",
          "data": {
            "text/plain": [
              "array([[1.        , 0.55034954],\n",
              "       [0.55034954, 1.        ]])"
            ]
          },
          "metadata": {
            "tags": []
          },
          "execution_count": 70
        }
      ]
    },
    {
      "cell_type": "code",
      "metadata": {
        "id": "ogFd1H1LBF_V",
        "colab_type": "code",
        "colab": {
          "base_uri": "https://localhost:8080/",
          "height": 52
        },
        "outputId": "ea4a9856-ac6c-4f13-ff78-a71a3ec49b90"
      },
      "source": [
        "x0 = [1.0,3.0,2.0,4.0,6.0,7.0,2.0]\n",
        "x1 = [3.0,1.0,2.0,4.0,6.0,3.0,2.0]\n",
        "np.corrcoef(x0,x1)\n",
        "# df = as.DataFrame([x0,x1])\n",
        "# df.head()\n",
        "# np.corr(x0,x1)"
      ],
      "execution_count": 74,
      "outputs": [
        {
          "output_type": "execute_result",
          "data": {
            "text/plain": [
              "array([[1.        , 0.55034954],\n",
              "       [0.55034954, 1.        ]])"
            ]
          },
          "metadata": {
            "tags": []
          },
          "execution_count": 74
        }
      ]
    }
  ]
}